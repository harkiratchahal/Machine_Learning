{
 "cells": [
  {
   "cell_type": "markdown",
   "id": "34536ec8",
   "metadata": {},
   "source": [
    "# Optional Lab: Logistic Regression, Decision Boundary\n"
   ]
  },
  {
   "cell_type": "markdown",
   "id": "f1ef622c",
   "metadata": {},
   "source": [
    "## Goals\n",
    "In this lab, you will:\n",
    "- Plot the decision boundary for a logistic regression model. This will give you a better sense of what the model is predicting.\n"
   ]
  },
  {
   "cell_type": "code",
   "execution_count": 1,
   "id": "4e816b42",
   "metadata": {},
   "outputs": [],
   "source": [
    "import numpy as np\n",
    "%matplotlib widget\n",
    "import matplotlib.pyplot as plt\n",
    "from lab_utils_common import plot_data, sigmoid, draw_vthresh\n",
    "plt.style.use('./deeplearning.mplstyle')"
   ]
  },
  {
   "cell_type": "markdown",
   "id": "770bb299",
   "metadata": {},
   "source": [
    "## Dataset\n",
    "\n",
    "Let's suppose you have following training dataset\n",
    "- The input variable `X` is a numpy array which has 6 training examples, each with two features\n",
    "- The output variable `y` is also a numpy array with 6 examples, and `y` is either `0` or `1`"
   ]
  },
  {
   "cell_type": "code",
   "execution_count": 2,
   "id": "116f2620",
   "metadata": {},
   "outputs": [],
   "source": [
    "X = np.array([[0.5, 1.5], [1,1], [1.5, 0.5], [3, 0.5], [2, 2], [1, 2.5]])\n",
    "y = np.array([0, 0, 0, 1, 1, 1]).reshape(-1,1) "
   ]
  },
  {
   "cell_type": "markdown",
   "id": "8f969ad8",
   "metadata": {},
   "source": [
    "### Plot data \n",
    "\n",
    "Let's use a helper function to plot this data. The data points with label $y=1$ are shown as red crosses, while the data points with label $y=0$ are shown as blue circles. "
   ]
  },
  {
   "cell_type": "code",
   "execution_count": 3,
   "id": "219089e0",
   "metadata": {},
   "outputs": [
    {
     "data": {
      "application/vnd.jupyter.widget-view+json": {
       "model_id": "6032e34b90214b4eb117d1a459eea8bd",
       "version_major": 2,
       "version_minor": 0
      },
      "image/png": "[encoded data removed]",
      "text/html": [
       "\n",
       "            <div style=\"display: inline-block;\">\n",
       "                <div class=\"jupyter-widgets widget-label\" style=\"text-align: center;\">\n",
       "                    Figure\n",
       "                </div>\n",
       "                <img src='data:image/png;base64,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' width=400.0/>\n",
       "            </div>\n",
       "        "
      ],
      "text/plain": [
       "Canvas(footer_visible=False, header_visible=False, toolbar=Toolbar(toolitems=[('Home', 'Reset original view', …"
      ]
     },
     "metadata": {},
     "output_type": "display_data"
    }
   ],
   "source": [
    "fig,ax = plt.subplots(1,1,figsize=(4,4))\n",
    "plot_data(X, y, ax)\n",
    "\n",
    "ax.axis([0, 4, 0, 3.5])\n",
    "ax.set_ylabel('$x_1$')\n",
    "ax.set_xlabel('$x_0$')\n",
    "plt.show()"
   ]
  },
  {
   "cell_type": "markdown",
   "id": "336f4907",
   "metadata": {},
   "source": [
    "## Logistic regression model\n",
    "\n",
    "\n",
    "* Suppose you'd like to train a logistic regression model on this data which has the form   \n",
    "\n",
    "  $f(x) = g(w_0x_0+w_1x_1 + b)$\n",
    "  \n",
    "  where $g(z) = \\frac{1}{1+e^{-z}}$, which is the sigmoid function\n",
    "\n",
    "\n",
    "* Let's say that you trained the model and get the parameters as $b = -3, w_0 = 1, w_1 = 1$. That is,\n",
    "\n",
    "  $f(x) = g(x_0+x_1-3)$\n",
    "\n",
    "  (You'll learn how to fit these parameters to the data further in the course)\n",
    "  \n",
    "  \n",
    "Let's try to understand what this trained model is predicting by plotting its decision boundary"
   ]
  },
  {
   "cell_type": "markdown",
   "id": "8f8d03bc",
   "metadata": {},
   "source": [
    "### Refresher on logistic regression and decision boundary\n",
    "\n",
    "* Recall that for logistic regression, the model is represented as \n",
    "\n",
    "  $$f_{\\mathbf{w},b}(\\mathbf{x}^{(i)}) = g(\\mathbf{w} \\cdot \\mathbf{x}^{(i)} + b) \\tag{1}$$\n",
    "\n",
    "  where $g(z)$ is known as the sigmoid function and it maps all input values to values between 0 and 1:\n",
    "\n",
    "  $g(z) = \\frac{1}{1+e^{-z}}\\tag{2}$\n",
    "  and $\\mathbf{w} \\cdot \\mathbf{x}$ is the vector dot product:\n",
    "  \n",
    "  $$\\mathbf{w} \\cdot \\mathbf{x} = w_0 x_0 + w_1 x_1$$\n",
    "  \n",
    "  \n",
    " * We interpret the output of the model ($f_{\\mathbf{w},b}(x)$) as the probability that $y=1$ given $\\mathbf{x}$ and parameterized by $\\mathbf{w}$ and $b$.\n",
    "* Therefore, to get a final prediction ($y=0$ or $y=1$) from the logistic regression model, we can use the following heuristic -\n",
    "\n",
    "  if $f_{\\mathbf{w},b}(x) >= 0.5$, predict $y=1$\n",
    "  \n",
    "  if $f_{\\mathbf{w},b}(x) < 0.5$, predict $y=0$\n",
    "  \n",
    "  \n",
    "* Let's plot the sigmoid function to see where $g(z) >= 0.5$"
   ]
  },
  {
   "cell_type": "code",
   "execution_count": 4,
   "id": "06bbd3d7",
   "metadata": {},
   "outputs": [
    {
     "data": {
      "application/vnd.jupyter.widget-view+json": {
       "model_id": "5a40bf8e4ae14604b8c1b2ee7a28b4cd",
       "version_major": 2,
       "version_minor": 0
      },
      "text/plain": [
       "Canvas(toolbar=Toolbar(toolitems=[('Home', 'Reset original view', 'home', 'home'), ('Back', 'Back to previous …"
      ]
     },
     "metadata": {},
     "output_type": "display_data"
    }
   ],
   "source": [
    "# Plot sigmoid(z) over a range of values from -10 to 10\n",
    "z = np.arange(-10,11)\n",
    "\n",
    "fig,ax = plt.subplots(1,1,figsize=(5,3))\n",
    "# Plot z vs sigmoid(z)\n",
    "ax.plot(z, sigmoid(z), c=\"b\")\n",
    "\n",
    "ax.set_title(\"Sigmoid function\")\n",
    "ax.set_ylabel('sigmoid(z)')\n",
    "ax.set_xlabel('z')\n",
    "draw_vthresh(ax,0)"
   ]
  },
  {
   "cell_type": "markdown",
   "id": "1ffe1326",
   "metadata": {},
   "source": [
    "* As you can see, $g(z) >= 0.5$ for $z >=0$\n",
    "\n",
    "* For a logistic regression model, $z = \\mathbf{w} \\cdot \\mathbf{x} + b$. Therefore,\n",
    "\n",
    "  if $\\mathbf{w} \\cdot \\mathbf{x} + b >= 0$, the model predicts $y=1$\n",
    "  \n",
    "  if $\\mathbf{w} \\cdot \\mathbf{x} + b < 0$, the model predicts $y=0$\n",
    "  \n",
    "  \n",
    "  \n",
    "### Plotting decision boundary\n",
    "\n",
    "Now, let's go back to our example to understand how the logistic regression model is making predictions.\n",
    "\n",
    "* Our logistic regression model has the form\n",
    "\n",
    "  $f(\\mathbf{x}) = g(-3 + x_0+x_1)$\n",
    "\n",
    "\n",
    "* From what you've learnt above, you can see that this model predicts $y=1$ if $-3 + x_0+x_1 >= 0$\n",
    "\n",
    "Let's see what this looks like graphically. We'll start by plotting $-3 + x_0+x_1 = 0$, which is equivalent to $x_1 = 3 - x_0$.\n"
   ]
  },
  {
   "cell_type": "code",
   "execution_count": 5,
   "id": "0cc30603",
   "metadata": {},
   "outputs": [
    {
     "data": {
      "application/vnd.jupyter.widget-view+json": {
       "model_id": "132a6f1f5e5f4e3f86e3dfd2575152b7",
       "version_major": 2,
       "version_minor": 0
      },
      "text/plain": [
       "Canvas(toolbar=Toolbar(toolitems=[('Home', 'Reset original view', 'home', 'home'), ('Back', 'Back to previous …"
      ]
     },
     "metadata": {},
     "output_type": "display_data"
    }
   ],
   "source": [
    "# Choose values between 0 and 6\n",
    "x0 = np.arange(0,6)\n",
    "\n",
    "x1 = 3 - x0\n",
    "fig,ax = plt.subplots(1,1,figsize=(5,4))\n",
    "# Plot the decision boundary\n",
    "ax.plot(x0,x1, c=\"b\")\n",
    "ax.axis([0, 4, 0, 3.5])\n",
    "\n",
    "# Fill the region below the line\n",
    "ax.fill_between(x0,x1, alpha=0.2)\n",
    "\n",
    "# Plot the original data\n",
    "plot_data(X,y,ax)\n",
    "ax.set_ylabel(r'$x_1$')\n",
    "ax.set_xlabel(r'$x_0$')\n",
    "plt.show()"
   ]
  },
  {
   "cell_type": "markdown",
   "id": "dd66d5b3",
   "metadata": {},
   "source": [
    "* In the plot above, the blue line represents the line $x_0 + x_1 - 3 = 0$ and it should intersect the x1 axis at 3 (if we set $x_1$ = 3, $x_0$ = 0) and the x0 axis at 3 (if we set $x_1$ = 0, $x_0$ = 3). \n",
    "\n",
    "\n",
    "* The shaded region represents $-3 + x_0+x_1 < 0$. The region above the line is $-3 + x_0+x_1 > 0$.\n",
    "\n",
    "\n",
    "* Any point in the shaded region (under the line) is classified as $y=0$.  Any point on or above the line is classified as $y=1$. This line is known as the \"decision boundary\".\n",
    "\n",
    "As we've seen in the lectures, by using higher order polynomial terms (eg: $f(x) = g( x_0^2 + x_1 -1)$, we can come up with more complex non-linear boundaries."
   ]
  },
  {
   "cell_type": "markdown",
   "id": "a43e6199",
   "metadata": {},
   "source": [
    "## Congratulations!\n",
    "You have explored the decision boundary in the context of logistic regression."
   ]
  },
  {
   "cell_type": "code",
   "execution_count": null,
   "id": "b52b4619",
   "metadata": {},
   "outputs": [],
   "source": []
  },
  {
   "cell_type": "code",
   "execution_count": null,
   "id": "f3c2d664",
   "metadata": {},
   "outputs": [],
   "source": []
  }
 ],
 "metadata": {
  "kernelspec": {
   "display_name": "Python 3 (ipykernel)",
   "language": "python",
   "name": "python3"
  },
  "language_info": {
   "codemirror_mode": {
    "name": "ipython",
    "version": 3
   },
   "file_extension": ".py",
   "mimetype": "text/x-python",
   "name": "python",
   "nbconvert_exporter": "python",
   "pygments_lexer": "ipython3",
   "version": "3.13.1"
  }
 },
 "nbformat": 4,
 "nbformat_minor": 5
}
