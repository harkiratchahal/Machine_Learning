{
 "cells": [
  {
   "cell_type": "code",
   "execution_count": 4,
   "id": "595a8c84-a9f5-48d1-9fca-71a3011e644f",
   "metadata": {},
   "outputs": [],
   "source": [
    "import numpy as np\n",
    "import matplotlib.pyplot as plt\n",
    "from utils import *\n",
    "import copy \n",
    "import math\n",
    "%matplotlib inline"
   ]
  },
  {
   "cell_type": "code",
   "execution_count": 5,
   "id": "fd614f56-d487-4498-8a97-02a0d7ad6096",
   "metadata": {},
   "outputs": [],
   "source": [
    "\n",
    "x_train, y_train = load_data()"
   ]
  },
  {
   "cell_type": "code",
   "execution_count": 6,
   "id": "1eb4cd51-0582-4004-99b9-60f3742b9166",
   "metadata": {},
   "outputs": [
    {
     "name": "stdout",
     "output_type": "stream",
     "text": [
      "<class 'numpy.ndarray'>\n",
      "[ 6.1101  5.5277  8.5186  7.0032  5.8598  8.3829  7.4764  8.5781  6.4862\n",
      "  5.0546  5.7107 14.164   5.734   8.4084  5.6407  5.3794  6.3654  5.1301\n",
      "  6.4296  7.0708  6.1891 20.27    5.4901  6.3261  5.5649 18.945  12.828\n",
      " 10.957  13.176  22.203   5.2524  6.5894  9.2482  5.8918  8.2111  7.9334\n",
      "  8.0959  5.6063 12.836   6.3534  5.4069  6.8825 11.708   5.7737  7.8247\n",
      "  7.0931  5.0702  5.8014 11.7     5.5416  7.5402  5.3077  7.4239  7.6031\n",
      "  6.3328  6.3589  6.2742  5.6397  9.3102  9.4536  8.8254  5.1793 21.279\n",
      " 14.908  18.959   7.2182  8.2951 10.236   5.4994 20.341  10.136   7.3345\n",
      "  6.0062  7.2259  5.0269  6.5479  7.5386  5.0365 10.274   5.1077  5.7292\n",
      "  5.1884  6.3557  9.7687  6.5159  8.5172  9.1802  6.002   5.5204  5.0594\n",
      "  5.7077  7.6366  5.8707  5.3054  8.2934 13.394   5.4369]\n"
     ]
    }
   ],
   "source": [
    "print(type(x_train))\n",
    "print(x_train)"
   ]
  },
  {
   "cell_type": "code",
   "execution_count": 7,
   "id": "264c88e9-d248-4155-a912-b5066ee51a34",
   "metadata": {},
   "outputs": [
    {
     "name": "stdout",
     "output_type": "stream",
     "text": [
      "<class 'numpy.ndarray'>\n",
      "[17.592    9.1302  13.662   11.854    6.8233  11.886    4.3483  12.\n",
      "  6.5987   3.8166   3.2522  15.505    3.1551   7.2258   0.71618  3.5129\n",
      "  5.3048   0.56077  3.6518   5.3893   3.1386  21.767    4.263    5.1875\n",
      "  3.0825  22.638   13.501    7.0467  14.692   24.147   -1.22     5.9966\n",
      " 12.134    1.8495   6.5426   4.5623   4.1164   3.3928  10.117    5.4974\n",
      "  0.55657  3.9115   5.3854   2.4406   6.7318   1.0463   5.1337   1.844\n",
      "  8.0043   1.0179   6.7504   1.8396   4.2885   4.9981   1.4233  -1.4211\n",
      "  2.4756   4.6042   3.9624   5.4141   5.1694  -0.74279 17.929   12.054\n",
      " 17.054    4.8852   5.7442   7.7754   1.0173  20.992    6.6799   4.0259\n",
      "  1.2784   3.3411  -2.6807   0.29678  3.8845   5.7014   6.7526   2.0576\n",
      "  0.47953  0.20421  0.67861  7.5435   5.3436   4.2415   6.7981   0.92695\n",
      "  0.152    2.8214   1.8451   4.2959   7.2029   1.9869   0.14454  9.0551\n",
      "  0.61705]\n"
     ]
    }
   ],
   "source": [
    "print(type(y_train))\n",
    "print(y_train)"
   ]
  },
  {
   "cell_type": "code",
   "execution_count": 8,
   "id": "cb6b6061-fc01-49cb-b13f-28ba456d922f",
   "metadata": {},
   "outputs": [
    {
     "name": "stdout",
     "output_type": "stream",
     "text": [
      "Shape of x_train : (97,)\n",
      "Shape of y_train : (97,)\n"
     ]
    }
   ],
   "source": [
    "print(f\"Shape of x_train : {x_train.shape}\")\n",
    "print(f\"Shape of y_train : {y_train.shape}\")"
   ]
  },
  {
   "cell_type": "code",
   "execution_count": 9,
   "id": "158858c9-0457-4af1-9d68-35ce2a6f3e06",
   "metadata": {},
   "outputs": [
    {
     "name": "stdout",
     "output_type": "stream",
     "text": [
      "Number of training examples : 97\n"
     ]
    }
   ],
   "source": [
    "#Number of training examples \n",
    "print(f\"Number of training examples : {len(x_train)}\")"
   ]
  },
  {
   "cell_type": "code",
   "execution_count": 10,
   "id": "d675cdda-943d-44e0-a897-d9839728c370",
   "metadata": {},
   "outputs": [
    {
     "data": {
      "image/png": "[encoded data removed]",
      "text/plain": [
       "<Figure size 640x480 with 1 Axes>"
      ]
     },
     "metadata": {},
     "output_type": "display_data"
    }
   ],
   "source": [
    "plt.scatter(x_train, y_train, marker =\"x\", c =\"r\")\n",
    "plt.xlabel(\"Population\")\n",
    "plt.ylabel(\"Monthly Average Profit\")\n",
    "plt.title(\"Population vs average monthly profit\")\n",
    "plt.show()"
   ]
  },
  {
   "cell_type": "code",
   "execution_count": 11,
   "id": "3885bf6b-d1d0-48ce-a5a8-ed47267120f8",
   "metadata": {},
   "outputs": [],
   "source": [
    "def compute_cost(x,y,w,b):\n",
    "    \"\"\"\n",
    "    Computes the cost function for linear Regression\n",
    "\n",
    "    Args:\n",
    "        x (ndarray): Shape (m,) Input to the model (Population of cities)\n",
    "        y (ndarray): Shape (m,) Label (Actual profits for the cities)\n",
    "        w, b (Scaler) : Parameters of the model\n",
    "\n",
    "    Returns:\n",
    "        j (float): The cost of using w, b as parameters for linear regression to fit the data \n",
    "        points in x and y\n",
    "    \"\"\"\n",
    "\n",
    "    m = x.shape[0]\n",
    "    j = 0.0\n",
    "    for i in range(m):\n",
    "        f_wb = (w * x[i]) + b\n",
    "        j = j + (f_wb - y[i])**2\n",
    "    j = j/(2*m)\n",
    "\n",
    "    return j"
   ]
  },
  {
   "cell_type": "code",
   "execution_count": 25,
   "id": "c279c2c8-8a46-4a87-98f9-122734e70995",
   "metadata": {},
   "outputs": [
    {
     "name": "stdout",
     "output_type": "stream",
     "text": [
      "<class 'numpy.float64'>\n",
      "Cost at initial w: 75.203\n",
      "\u001b[92mAll tests passed!\n"
     ]
    }
   ],
   "source": [
    "initial_w = 2\n",
    "initial_b = 1\n",
    "\n",
    "cost = compute_cost(x_train, y_train, initial_w, initial_b)\n",
    "print(type(cost))\n",
    "print(f\"Cost at initial w: {cost:.3f}\")\n",
    "\n",
    "from public_tests import *\n",
    "compute_cost_test(compute_cost)"
   ]
  },
  {
   "cell_type": "code",
   "execution_count": 23,
   "id": "b4be6295-011c-47cb-8600-853ae9b6d7c4",
   "metadata": {},
   "outputs": [],
   "source": [
    "#Gradient Descent \n",
    "def compute_gradient(x, y, w, b):\n",
    "    \"\"\"\n",
    "    Computes the gradient for linear regression \n",
    "    Args:\n",
    "      x (ndarray): Shape (m,) Input to the model (Population of cities) \n",
    "      y (ndarray): Shape (m,) Label (Actual profits for the cities)\n",
    "      w, b (scalar): Parameters of the model  \n",
    "    Returns\n",
    "      dj_dw (scalar): The gradient of the cost w.r.t. the parameters w\n",
    "      dj_db (scalar): The gradient of the cost w.r.t. the parameter b     \n",
    "     \"\"\"\n",
    "\n",
    "    m = x.shape[0]\n",
    "    dj_dw = 0.0\n",
    "    dj_db = 0.0\n",
    "\n",
    "    for i in range(m):\n",
    "        err = (w * x[i] + b) - y[i]\n",
    "        dj_dw = dj_dw + (err * x[i])\n",
    "        dj_db = dj_db + err\n",
    "    dj_dw = dj_dw / m\n",
    "    dj_db = dj_db / m \n",
    "\n",
    "    return dj_dw, dj_db"
   ]
  },
  {
   "cell_type": "code",
   "execution_count": 26,
   "id": "ae0c2e7b-17e5-43bb-886e-b57b0af3ef93",
   "metadata": {},
   "outputs": [
    {
     "name": "stdout",
     "output_type": "stream",
     "text": [
      "Gradient at initial w, b (zeros): -65.32884974555672 -5.83913505154639\n",
      "Using X with shape (4, 1)\n",
      "\u001b[92mAll tests passed!\n"
     ]
    }
   ],
   "source": [
    "initial_w = 0\n",
    "initial_b = 0\n",
    "\n",
    "tmp_dj_dw, tmp_dj_db = compute_gradient(x_train, y_train, initial_w, initial_b)\n",
    "print(\"Gradient at initial w, b (zeros):\",tmp_dj_dw, tmp_dj_db)\n",
    "\n",
    "compute_gradient_test(compute_gradient)"
   ]
  },
  {
   "cell_type": "code",
   "execution_count": 27,
   "id": "04ec3ab8-d690-4b6e-8eec-e0493eebdf27",
   "metadata": {},
   "outputs": [
    {
     "name": "stdout",
     "output_type": "stream",
     "text": [
      "Gradient at test w, b: -47.41610118114435 -4.007175051546391\n"
     ]
    }
   ],
   "source": [
    "test_w = 0.2\n",
    "test_b = 0.2\n",
    "tmp_dj_dw, tmp_dj_db = compute_gradient(x_train, y_train, test_w, test_b)\n",
    "\n",
    "print('Gradient at test w, b:', tmp_dj_dw, tmp_dj_db)"
   ]
  },
  {
   "cell_type": "code",
   "execution_count": 31,
   "id": "95348963-a3d3-4265-bcb8-a2a22919a5eb",
   "metadata": {},
   "outputs": [],
   "source": [
    "def gradient_descent(x, y, initial_w, initial_b, compute_cost, compute_gradient, alpha, num_iterations):\n",
    "    m = len(x)\n",
    "    J_history = []\n",
    "    w_history = []\n",
    "    w = copy.deepcopy(initial_w)\n",
    "    b = initial_b\n",
    "\n",
    "    for i in range(num_iterations):\n",
    "        dj_dw, dj_db = compute_gradient(x,y,w,b)\n",
    "\n",
    "        w = w - (alpha * dj_dw)\n",
    "        b = b - (alpha * dj_db)\n",
    "\n",
    "        if i < 100000:\n",
    "            cost = compute_cost(x, y, w, b)\n",
    "            J_history.append(cost)\n",
    "\n",
    "        if i%math.ceil(num_iterations/10) == 0:\n",
    "            w_history.append(w)\n",
    "            print(f\"iteration {i:4}: Cost {float(J_history[-1]):8.2f}\")\n",
    "\n",
    "    return w, b, J_history, w_history\n",
    "    \n",
    "    \n",
    "    \n"
   ]
  },
  {
   "cell_type": "code",
   "execution_count": 32,
   "id": "53310087-8885-44b7-a494-2e28c16e3f2c",
   "metadata": {},
   "outputs": [
    {
     "name": "stdout",
     "output_type": "stream",
     "text": [
      "iteration    0: Cost     6.74\n",
      "iteration  150: Cost     5.31\n",
      "iteration  300: Cost     4.96\n",
      "iteration  450: Cost     4.76\n",
      "iteration  600: Cost     4.64\n",
      "iteration  750: Cost     4.57\n",
      "iteration  900: Cost     4.53\n",
      "iteration 1050: Cost     4.51\n",
      "iteration 1200: Cost     4.50\n",
      "iteration 1350: Cost     4.49\n",
      "w,b found by gradient descent: 1.166362350335582 -3.63029143940436\n"
     ]
    }
   ],
   "source": [
    "\n",
    "\n",
    "# initialize fitting parameters. Recall that the shape of w is (n,)\n",
    "initial_w = 0.\n",
    "initial_b = 0.\n",
    "\n",
    "# some gradient descent settings\n",
    "iterations = 1500\n",
    "alpha = 0.01\n",
    "\n",
    "w,b,_,_ = gradient_descent(x_train ,y_train, initial_w, initial_b, \n",
    "                     compute_cost, compute_gradient, alpha, iterations)\n",
    "print(\"w,b found by gradient descent:\", w, b)\n",
    "\n"
   ]
  },
  {
   "cell_type": "code",
   "execution_count": 34,
   "id": "5d767bea-9753-4bb9-a9c3-63ac24d97566",
   "metadata": {},
   "outputs": [],
   "source": [
    "m = x_train.shape[0]\n",
    "predicted = np.zeros(m)\n",
    "\n",
    "for i in range(m):\n",
    "    predicted[i] = w *x_train[i] + b\n",
    "    "
   ]
  },
  {
   "cell_type": "code",
   "execution_count": 39,
   "id": "365eda93-1ecd-46f3-b9b8-d24024239624",
   "metadata": {},
   "outputs": [
    {
     "data": {
      "text/plain": [
       "Text(0.5, 0, 'Population of City in 10,000s')"
      ]
     },
     "execution_count": 39,
     "metadata": {},
     "output_type": "execute_result"
    },
    {
     "data": {
      "image/png": "[encoded data removed]",
      "text/plain": [
       "<Figure size 640x480 with 1 Axes>"
      ]
     },
     "metadata": {},
     "output_type": "display_data"
    }
   ],
   "source": [
    "\n",
    "plt.scatter(x_train, y_train , c =\"r\", marker = \"x\")\n",
    "plt.plot(x_train, predicted , c = \"b\")\n",
    "plt.title(\"Profits vs Populations per city\")\n",
    "plt.ylabel('Profit in $10,000')\n",
    "plt.xlabel('Population of City in 10,000s')"
   ]
  },
  {
   "cell_type": "code",
   "execution_count": 40,
   "id": "a2b6cc21-2a4d-4d14-8687-2c87cb57d579",
   "metadata": {},
   "outputs": [
    {
     "name": "stdout",
     "output_type": "stream",
     "text": [
      "For population = 35,000, we predict a profit of $4519.77\n",
      "For population = 70,000, we predict a profit of $45342.45\n"
     ]
    }
   ],
   "source": [
    "predict1 = 3.5 * w + b\n",
    "print('For population = 35,000, we predict a profit of $%.2f' % (predict1*10000))\n",
    "\n",
    "predict2 = 7.0 * w + b\n",
    "print('For population = 70,000, we predict a profit of $%.2f' % (predict2*10000))"
   ]
  },
  {
   "cell_type": "code",
   "execution_count": null,
   "id": "4183e88d-ddd9-4d7d-97e6-60197f28f84d",
   "metadata": {},
   "outputs": [],
   "source": []
  }
 ],
 "metadata": {
  "kernelspec": {
   "display_name": "Python 3 (ipykernel)",
   "language": "python",
   "name": "python3"
  },
  "language_info": {
   "codemirror_mode": {
    "name": "ipython",
    "version": 3
   },
   "file_extension": ".py",
   "mimetype": "text/x-python",
   "name": "python",
   "nbconvert_exporter": "python",
   "pygments_lexer": "ipython3",
   "version": "3.13.1"
  }
 },
 "nbformat": 4,
 "nbformat_minor": 5
}
